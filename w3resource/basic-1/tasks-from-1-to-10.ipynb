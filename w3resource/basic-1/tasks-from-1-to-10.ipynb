{
 "cells": [
  {
   "cell_type": "markdown",
   "id": "b3bdd85c",
   "metadata": {
    "heading_collapsed": true
   },
   "source": [
    "## Task 1: Write a Python program to print the following string in a specific format\n",
    "**output:**\n",
    "\n",
    "Twinkle, twinkle, little star,\n",
    "\t\n",
    "    How I wonder what you are! \n",
    "\t\t\n",
    "        Up above the world so high,   \t\t\n",
    "\t\t\n",
    "        Like a diamond in the sky. \n",
    "\n",
    "Twinkle, twinkle, little star, \n",
    "\t\n",
    "    How I wonder what you are"
   ]
  },
  {
   "cell_type": "code",
   "execution_count": 1,
   "id": "6f2ff8a1",
   "metadata": {
    "ExecuteTime": {
     "end_time": "2022-01-18T14:52:33.562882Z",
     "start_time": "2022-01-18T14:52:33.542880Z"
    },
    "hidden": true,
    "scrolled": true
   },
   "outputs": [
    {
     "name": "stdout",
     "output_type": "stream",
     "text": [
      "Twinkle, twinkle, little star,       \n",
      "\tHow I wonder what you are! \n",
      "\t\tUp above the world so high, \n",
      "\t\tLike a diamond in the sky.       \n",
      "Twinkle, twinkle, little star, \n",
      "\tHow I wonder what you are\n"
     ]
    }
   ],
   "source": [
    "# Answer\n",
    "print(\"Twinkle, twinkle, little star, \\\n",
    "      \\n\\tHow I wonder what you are! \\n\\t\\tUp above the world so high, \\n\\t\\tLike a diamond in the sky. \\\n",
    "      \\nTwinkle, twinkle, little star, \\n\\tHow I wonder what you are\")"
   ]
  },
  {
   "cell_type": "markdown",
   "id": "4c13517b",
   "metadata": {
    "heading_collapsed": true
   },
   "source": [
    "## Task 2: Write a Python program to get the Python version you are using"
   ]
  },
  {
   "cell_type": "code",
   "execution_count": 2,
   "id": "425e43c4",
   "metadata": {
    "ExecuteTime": {
     "end_time": "2022-01-18T14:58:44.000886Z",
     "start_time": "2022-01-18T14:58:43.985884Z"
    },
    "hidden": true,
    "scrolled": true
   },
   "outputs": [
    {
     "name": "stdout",
     "output_type": "stream",
     "text": [
      "python version is: 3.8.8 (default, Apr 13 2021, 15:08:03) [MSC v.1916 64 bit (AMD64)] \n",
      "python version info: sys.version_info(major=3, minor=8, micro=8, releaselevel='final', serial=0)\n"
     ]
    }
   ],
   "source": [
    "# Answer\n",
    "import sys\n",
    "print(f\"python version is: {sys.version} \\npython version info: {sys.version_info}\")"
   ]
  },
  {
   "cell_type": "markdown",
   "id": "5c27187b",
   "metadata": {
    "heading_collapsed": true
   },
   "source": [
    "## Task 3: Write a Python program to display the current date and time.\n",
    "**output:**\n",
    "\n",
    "Current date and time :\n",
    "\n",
    "2014-07-05 14:34:14"
   ]
  },
  {
   "cell_type": "code",
   "execution_count": 5,
   "id": "55f62fb7",
   "metadata": {
    "ExecuteTime": {
     "end_time": "2022-01-18T15:11:48.313881Z",
     "start_time": "2022-01-18T15:11:48.300883Z"
    },
    "hidden": true,
    "scrolled": true
   },
   "outputs": [
    {
     "name": "stdout",
     "output_type": "stream",
     "text": [
      "Current date and time :\n",
      "2022-01-18 17:11:48\n"
     ]
    }
   ],
   "source": [
    "# Answer\n",
    "import datetime as gdate\n",
    "print(f\"Current date and time :\\n{gdate.datetime.now().strftime('%Y-%m-%d %H:%M:%S')}\")"
   ]
  },
  {
   "cell_type": "markdown",
   "id": "1936f53b",
   "metadata": {
    "heading_collapsed": true
   },
   "source": [
    "## Task 4: Write a Python program which accepts the radius of a circle from the user and compute the area\n",
    "**output**\n",
    "\n",
    "r = 1.1\n",
    "\n",
    "Area = 3.8013271108436504"
   ]
  },
  {
   "cell_type": "code",
   "execution_count": 7,
   "id": "1252510b",
   "metadata": {
    "ExecuteTime": {
     "end_time": "2022-01-18T15:19:38.514886Z",
     "start_time": "2022-01-18T15:19:33.333882Z"
    },
    "hidden": true,
    "scrolled": true
   },
   "outputs": [
    {
     "name": "stdout",
     "output_type": "stream",
     "text": [
      "r= 1.1\n",
      "Area= 3.8013271108436504\n"
     ]
    }
   ],
   "source": [
    "# Answer\n",
    "import math\n",
    "r = float(input(\"r= \"))\n",
    "print(f\"Area= {math.pi*(r**2)}\")"
   ]
  },
  {
   "cell_type": "markdown",
   "id": "73f4c02d",
   "metadata": {
    "heading_collapsed": true
   },
   "source": [
    "## Task 5: Write a Python program which accepts the user's first and last name and print them in reverse order with a space between them."
   ]
  },
  {
   "cell_type": "code",
   "execution_count": 8,
   "id": "cc49982f",
   "metadata": {
    "ExecuteTime": {
     "end_time": "2022-01-18T15:26:26.389882Z",
     "start_time": "2022-01-18T15:26:13.661883Z"
    },
    "hidden": true,
    "scrolled": true
   },
   "outputs": [
    {
     "name": "stdout",
     "output_type": "stream",
     "text": [
      "add your first name:Mohamed\n",
      "add your last name:Adel\n",
      "Your Name: Adel Mohamed\n"
     ]
    }
   ],
   "source": [
    "# Answer\n",
    "fName = str(input(\"add your first name:\"))\n",
    "lName = str(input(\"add your last name:\"))\n",
    "print(f\"Your Name: {lName} {fName}\")"
   ]
  },
  {
   "cell_type": "markdown",
   "id": "7465459d",
   "metadata": {
    "heading_collapsed": true
   },
   "source": [
    "## Task 6: Write a Python program which accepts a sequence of comma-separated numbers from user and generate a list and a tuple with those numbers.\n",
    "**output:**\n",
    "\n",
    "List : ['3', ' 5', ' 7', ' 23']\n",
    "\n",
    "Tuple : ('3', ' 5', ' 7', ' 23')"
   ]
  },
  {
   "cell_type": "code",
   "execution_count": 10,
   "id": "8e3437d2",
   "metadata": {
    "ExecuteTime": {
     "end_time": "2022-01-18T15:38:10.277883Z",
     "start_time": "2022-01-18T15:37:57.426883Z"
    },
    "hidden": true
   },
   "outputs": [
    {
     "name": "stdout",
     "output_type": "stream",
     "text": [
      "add serial of numbers:3,5,7,23\n",
      "List: ['3', '5', '7', '23']\n",
      "Tuple: ('3', '5', '7', '23')\n"
     ]
    }
   ],
   "source": [
    "# Answer\n",
    "numbers = input(\"add serial of numbers:\")\n",
    "try:\n",
    "    myList = numbers.split(',')\n",
    "    print(f\"List: {myList}\\nTuple: {tuple(myList)}\")\n",
    "except:\n",
    "    print(\"invalid input\")"
   ]
  },
  {
   "cell_type": "markdown",
   "id": "85b53caa",
   "metadata": {
    "heading_collapsed": true
   },
   "source": [
    "## Task 7: Write a Python program to accept a filename from the user and print the extension of that\n",
    "**output:**\n",
    "\n",
    "filename : abc.java\n",
    "\n",
    "extension : java"
   ]
  },
  {
   "cell_type": "code",
   "execution_count": 22,
   "id": "9cd91302",
   "metadata": {
    "ExecuteTime": {
     "end_time": "2022-01-18T16:22:43.449881Z",
     "start_time": "2022-01-18T16:22:41.553883Z"
    },
    "hidden": true,
    "scrolled": true
   },
   "outputs": [
    {
     "name": "stdout",
     "output_type": "stream",
     "text": [
      "file name:abc.java\n",
      "\n",
      "extension (method 1): java\n",
      "\n",
      "**************************************************\n",
      "\n",
      "extension (method 2): java\n"
     ]
    }
   ],
   "source": [
    "# Answer\n",
    "fileName = str(input(\"file name:\"))\n",
    "\n",
    "print(f\"\\nextension (method 1): {fileName[fileName.find('.')+1:]}\")\n",
    "\n",
    "print(\"\\n\"+\"*\"*50)\n",
    "\n",
    "fileExt = fileName.split(\".\")\n",
    "print(f\"\\nextension (method 2): {fileExt[-1]}\")"
   ]
  },
  {
   "cell_type": "markdown",
   "id": "3931867e",
   "metadata": {
    "heading_collapsed": true
   },
   "source": [
    "## Task 8: Write a Python program to display the first and last colors from the following list"
   ]
  },
  {
   "cell_type": "code",
   "execution_count": 23,
   "id": "3f74b1ae",
   "metadata": {
    "ExecuteTime": {
     "end_time": "2022-01-18T16:30:10.084884Z",
     "start_time": "2022-01-18T16:30:10.076881Z"
    },
    "hidden": true
   },
   "outputs": [
    {
     "name": "stdout",
     "output_type": "stream",
     "text": [
      "First Color: Red\n",
      "Last Color: Black\n"
     ]
    }
   ],
   "source": [
    "# Answer\n",
    "color_list = [\"Red\",\"Green\",\"White\" ,\"Black\"]\n",
    "print(f\"First Color: {color_list[0]}\\nLast Color: {color_list[-1]}\")"
   ]
  },
  {
   "cell_type": "markdown",
   "id": "a6d053fd",
   "metadata": {
    "heading_collapsed": true
   },
   "source": [
    "## Task 9: Write a Python program to display the examination schedule. (extract the date from exam_st_date)\n",
    "**exam_st_date = (11, 12, 2014)**\n",
    "\n",
    "**output:** \n",
    "\n",
    "The examination will start from : 11 / 12 / 2014"
   ]
  },
  {
   "cell_type": "code",
   "execution_count": 35,
   "id": "9920fc71",
   "metadata": {
    "ExecuteTime": {
     "end_time": "2022-01-18T16:53:10.658393Z",
     "start_time": "2022-01-18T16:53:10.651397Z"
    },
    "hidden": true
   },
   "outputs": [
    {
     "name": "stdout",
     "output_type": "stream",
     "text": [
      "The examination will start from : 11 / 12 / 2014\n"
     ]
    }
   ],
   "source": [
    "# Answer\n",
    "exam_st_date = (11, 12, 2014)\n",
    "print(\"The examination will start from : %d / %d / %d\"%exam_st_date)"
   ]
  },
  {
   "cell_type": "markdown",
   "id": "5f2db0fd",
   "metadata": {},
   "source": [
    "## Task 10: Write a Python program that accepts an integer (n) and computes the value of n+nn+nnn\n",
    "\n",
    "**Sample value of n is 5**\n",
    "\n",
    "**Expected Result : 615**"
   ]
  },
  {
   "cell_type": "code",
   "execution_count": 40,
   "id": "f7e49b6a",
   "metadata": {
    "ExecuteTime": {
     "end_time": "2022-01-18T17:20:43.601397Z",
     "start_time": "2022-01-18T17:20:41.992393Z"
    }
   },
   "outputs": [
    {
     "name": "stdout",
     "output_type": "stream",
     "text": [
      "inter the number: 5\n",
      "Result= 615\n"
     ]
    }
   ],
   "source": [
    "from functools import reduce\n",
    "x = int(input(\"inter the number: \"))\n",
    "numbers = [\"{:d}\".format(x), \"{:d}{:d}\".format(x,x), \"{:d}{:d}{:d}\".format(x,x,x)]\n",
    "print(f\"Result= {reduce((lambda a,b: int(a)+int(b)), numbers)}\")"
   ]
  }
 ],
 "metadata": {
  "kernelspec": {
   "display_name": "Python 3",
   "language": "python",
   "name": "python3"
  },
  "language_info": {
   "codemirror_mode": {
    "name": "ipython",
    "version": 3
   },
   "file_extension": ".py",
   "mimetype": "text/x-python",
   "name": "python",
   "nbconvert_exporter": "python",
   "pygments_lexer": "ipython3",
   "version": "3.8.8"
  }
 },
 "nbformat": 4,
 "nbformat_minor": 5
}
